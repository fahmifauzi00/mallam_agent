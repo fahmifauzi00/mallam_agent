{
 "cells": [
  {
   "cell_type": "markdown",
   "metadata": {},
   "source": [
    "# Reflection"
   ]
  },
  {
   "cell_type": "markdown",
   "metadata": {},
   "source": [
    "## Understanding Reflection in AI Agents\n",
    "### What is Reflection?\n",
    "Reflection is the ability of an AI agent to:\n",
    "- Monitor its own actions and decisions\n",
    "- Evaluate its performance\n",
    "- Learn from experience\n",
    "- Adjust its behavior based on feedback\n",
    "- Improve over time\n",
    "\n",
    "Think of reflection like how a student might review their homework after completing it, or how a chef tastes their dish while cooking to make adjustments."
   ]
  },
  {
   "cell_type": "markdown",
   "metadata": {},
   "source": [
    "### 1. Let's start with basic imports"
   ]
  },
  {
   "cell_type": "code",
   "execution_count": 1,
   "metadata": {},
   "outputs": [],
   "source": [
    "import os\n",
    "from openai import OpenAI\n",
    "import json\n",
    "\n",
    "# initialize MaLLaM client\n",
    "mallam_api_key = os.getenv(\"MALLAM_API_KEY\")\n",
    "\n",
    "client = OpenAI(\n",
    "    base_url=\"https://api.mesolitica.com\",\n",
    "    api_key=mallam_api_key\n",
    ")"
   ]
  },
  {
   "cell_type": "markdown",
   "metadata": {},
   "source": [
    "### 2. Create a Simple Reflection Agent\n",
    "First, let's create a basic agent that can reflect on its responses"
   ]
  },
  {
   "cell_type": "code",
   "execution_count": 14,
   "metadata": {},
   "outputs": [],
   "source": [
    "# create a function that will do a reflection on responses\n",
    "def simple_reflection(response_to_analyze):\n",
    "    \"\"\"A simple function that reflects on a given response and suggests improvements\"\"\"\n",
    "    \n",
    "    reflection_prompt = [\n",
    "        {\n",
    "            \"role\": \"system\",\n",
    "            \"content\": \"\"\"You are a reflective agent. \n",
    "            Analyze the given response and provide:\n",
    "            1. What was good about the response?\n",
    "            2. What could be improved?\n",
    "            3. Suggestions for next time\n",
    "            Keep your analysis simple and clear. Reply in English.\"\"\"\n",
    "        },\n",
    "        {\n",
    "            \"role\": \"user\",\n",
    "            \"content\": f\"Please analyze this response: {response_to_analyze}\"\n",
    "        }\n",
    "    ]\n",
    "    \n",
    "    reflection = client.chat.completions.create(\n",
    "        model=\"mallam-small\",\n",
    "        messages=reflection_prompt,\n",
    "        max_tokens=512\n",
    "    )\n",
    "    \n",
    "    return reflection.choices[0].message.content"
   ]
  },
  {
   "cell_type": "markdown",
   "metadata": {},
   "source": [
    "### 3. Create a Basic Agent with Reflection\n",
    "Now let's create an agent that can respond and reflect"
   ]
  },
  {
   "cell_type": "code",
   "execution_count": 15,
   "metadata": {},
   "outputs": [],
   "source": [
    "def agent_with_reflection(user_input):\n",
    "    \"\"\"\n",
    "    A basic agent that:\n",
    "    1. Generate a response\n",
    "    2. Reflects on its response\n",
    "    3. Returns both the response and reflection\n",
    "    \"\"\"\n",
    "    \n",
    "    response = client.chat.completions.create(\n",
    "        model=\"mallam-small\",\n",
    "        messages=[\n",
    "            {\"role\": \"user\", \"content\": f\"Reply in English and keep it short and concise. Input: {user_input}\"}\n",
    "        ]\n",
    "    )\n",
    "    \n",
    "    initial_response = response.choices[0].message.content\n",
    "    \n",
    "    # reflect on the response\n",
    "    reflection = simple_reflection(initial_response)\n",
    "    \n",
    "    return {\n",
    "        \"response\": initial_response,\n",
    "        \"reflection\": reflection\n",
    "    }"
   ]
  },
  {
   "cell_type": "markdown",
   "metadata": {},
   "source": [
    "### 4. Let's test our Basic Reflection Agent"
   ]
  },
  {
   "cell_type": "code",
   "execution_count": 16,
   "metadata": {},
   "outputs": [
    {
     "name": "stdout",
     "output_type": "stream",
     "text": [
      "Test 1: Simple Question\n",
      "\n",
      "Response: Machine learning is a subset of artificial intelligence that focuses on developing algorithms and statistical models that enable computers to learn from data without being explicitly programmed. It involves training models on large amounts of data and using them to make predictions or decisions based on new data.\n",
      "\n",
      "Reflection: **What was good about the response?**\n",
      "\n",
      "The response provides a concise definition of machine learning, emphasizing its role within artificial intelligence and highlighting the key aspects of developing algorithms and statistical models. It also correctly mentions the process of training models on data to make predictions or decisions.\n",
      "\n",
      "**What could be improved?**\n",
      "\n",
      "While the response is accurate, it could benefit from more depth and clarity. For example, it doesn't specify different types of machine learning (supervised, unsupervised, reinforcement learning), nor does it mention any real-world applications or examples. Additionally, the explanation of \"learning without being explicitly programmed\" might be better illustrated with an example to enhance understanding.\n",
      "\n",
      "**Suggestions for next time**\n",
      "\n",
      "To improve the response, consider the following suggestions:\n",
      "\n",
      "1. **Provide more context:** Explain how machine learning differs from traditional programming methods and why it's necessary in certain scenarios.\n",
      "2. **Elaborate on types of machine learning:** Introduce the main categories (supervised, unsupervised, and reinforcement learning) and provide brief descriptions or examples for each.\n",
      "3. **Include real-world applications:** Mention some practical applications of machine learning to illustrate its relevance and impact.\n",
      "4. **Explain with examples:** Use simple examples to clarify concepts like \"learning without being explicitly programmed.\" For instance, explaining how a machine learning model might recognize patterns in data without being told exactly what to look for.\n",
      "5. **Define key terms:** Ensure that all technical terms are defined or explained sufficiently so that readers can understand the core concepts.\n",
      "\n",
      "By incorporating these suggestions, the response would not only be more informative but also easier for readers to grasp the fundamental ideas behind machine learning.\n"
     ]
    }
   ],
   "source": [
    "# Test with simple question\n",
    "print(\"Test 1: Simple Question\")\n",
    "result = agent_with_reflection(\n",
    "    \"What is machine learning?\"\n",
    ")\n",
    "print(\"\\nResponse:\", result[\"response\"])\n",
    "print(\"\\nReflection:\", result[\"reflection\"])"
   ]
  },
  {
   "cell_type": "code",
   "execution_count": 17,
   "metadata": {},
   "outputs": [
    {
     "name": "stdout",
     "output_type": "stream",
     "text": [
      "Test 2: Complex Question\n",
      "\n",
      "Response: Sure! In machine learning, there are two main types of learning methods: supervised and unsupervised.\n",
      "\n",
      "In supervised learning, an algorithm is trained on a labeled dataset, meaning that for each input data point, there's a corresponding output label. The goal is to learn a mapping from inputs to outputs. For example, consider a spam filter that classifies emails as either spam or not spam based on features like email content and sender information. Here, the input is the email data, and the output is the classification label (spam or not spam). Another example is predicting house prices based on features such as size, location, and number of bedrooms, where the input is the features and the output is the price.\n",
      "\n",
      "On the other hand, unsupervised learning deals with unlabeled datasets, meaning there are no output labels provided for the algorithm to learn from. Instead, the algorithm tries to find hidden patterns or intrinsic structures in the data. Clustering is a common unsupervised learning technique, where the algorithm groups similar data points together based on their features without any prior knowledge of the groupings. For example, customer segmentation in marketing involves clustering customers into different groups based on their purchasing behavior and demographic characteristics, even though we don't have predefined labels for these groups. Another example\n",
      "\n",
      "Reflection: **Analysis**\n",
      "\n",
      "1. **What was good about the response?**\n",
      "   - The response clearly distinguishes between supervised and unsupervised learning, which is fundamental for understanding machine learning concepts.\n",
      "   - It provides specific examples for each type, such as spam filters and house price prediction for supervised learning, and customer segmentation for unsupervised learning. These examples make the concepts more relatable and easier to grasp.\n",
      "   - The explanation is straightforward and uses everyday language, making it accessible to beginners in the field.\n",
      "\n",
      "2. **What could be improved?**\n",
      "   - The response lacks a definition for what constitutes a \"label\" in supervised learning, which might confuse some readers who are new to the topic.\n",
      "   - There is no mention of semi-supervised learning, which can be a gray area between supervised and unsupervised learning.\n",
      "   - The examples provided are somewhat basic; including more advanced examples could help illustrate the capabilities of each learning method.\n",
      "   - It would be beneficial to include a brief discussion on when to use one method over the other, considering factors like data availability and problem requirements.\n",
      "\n",
      "3. **Suggestions for next time**\n",
      "   - Start by defining key terms like \"supervised,\" \"unsupervised,\" and \"labels\" to ensure clarity from the beginning.\n",
      "   - Consider mentioning semi-supervised learning briefly to give a fuller picture of the learning landscape.\n",
      "   - Provide a comparison table or list outlining the differences between supervised and unsupervised learning to help readers visualize the contrasts.\n",
      "   - Discuss real-world applications of both methods to illustrate their practical importance and relevance.\n",
      "   - Encourage critical thinking by asking questions or presenting scenarios where readers might need to choose between supervised and unsupervised learning approaches.\n",
      "   - Perhaps include a small code snippet or diagram to visually represent the concept, especially if the audience is tech-savvy.\n",
      "\n",
      "**Final Thoughts**\n",
      "The response serves as a good starting point for understanding the basics of supervised and unsupervised learning. However, expanding on these foundations with more details, definitions, and examples will better equip readers to apply this knowledge in various contexts.\n"
     ]
    }
   ],
   "source": [
    "# Test with a more complex request\n",
    "print(\"Test 2: Complex Question\")\n",
    "result = agent_with_reflection(\n",
    "    \"Can you explain the differences between supervised and unsupervised learning, and give examples of each?\"\n",
    ")\n",
    "print(\"\\nResponse:\", result[\"response\"])\n",
    "print(\"\\nReflection:\", result[\"reflection\"])"
   ]
  },
  {
   "cell_type": "markdown",
   "metadata": {},
   "source": [
    "### 5. Adding Basic Improvement Mechanism\n",
    "Let's add the ability to improve the responses based on reflection"
   ]
  },
  {
   "cell_type": "code",
   "execution_count": 23,
   "metadata": {},
   "outputs": [],
   "source": [
    "def improved_response(user_input, reflection):\n",
    "    \"\"\"Generate an improved response based on reflection\"\"\"\n",
    "    improvement_prompt = [\n",
    "        {\n",
    "            \"role\": \"system\",\n",
    "            \"content\": \"\"\"You are an AI assisstant. You have the ability to do reflection.\n",
    "            Generate an improved response based on the original prompt and reflection feedback.\"\"\"\n",
    "        },\n",
    "        {\n",
    "            \"role\": \"user\",\n",
    "            \"content\": f\"\"\"Original prompt: {user_input}\n",
    "            Reflection feedback: {reflection}\n",
    "            Please provide an improved response.\"\"\"\n",
    "        }\n",
    "    ]\n",
    "    \n",
    "    response = client.chat.completions.create(\n",
    "        model=\"mallam-small\",\n",
    "        messages=improvement_prompt,\n",
    "        max_tokens=1024\n",
    "    )\n",
    "    \n",
    "    return response.choices[0].message.content"
   ]
  },
  {
   "cell_type": "code",
   "execution_count": 24,
   "metadata": {},
   "outputs": [],
   "source": [
    "def improved_reflective_agent(user_input):\n",
    "    \"\"\"An Agent that:\n",
    "    1. Generates initial response\n",
    "    2. Reflects on it\n",
    "    3. Generates improved response\n",
    "    4. Returns all steps\n",
    "    \"\"\"\n",
    "    \n",
    "    # get initial response and reflection\n",
    "    first_response = agent_with_reflection(user_input)\n",
    "    \n",
    "    # generate improved response\n",
    "    reflective_response = improved_response(user_input, first_response[\"reflection\"])\n",
    "    \n",
    "    return {\n",
    "        \"initial_response\": first_response[\"response\"],\n",
    "        \"reflection\": first_response[\"reflection\"],\n",
    "        \"improved_response\": reflective_response\n",
    "    }"
   ]
  },
  {
   "cell_type": "markdown",
   "metadata": {},
   "source": [
    "### 6. Test the Improved Agent"
   ]
  },
  {
   "cell_type": "code",
   "execution_count": 25,
   "metadata": {},
   "outputs": [
    {
     "name": "stdout",
     "output_type": "stream",
     "text": [
      "Test with Improvement:\n",
      "\n",
      "Initial Response: Main components of an AI system include data collection, data preprocessing, feature extraction, model selection, model training, model evaluation, and deployment.\n",
      "\n",
      "Reflection: 1. **What was good about the response?**\n",
      "   - The response accurately identifies key components of an AI system.\n",
      "   - It provides a concise overview that touches on essential steps in the AI development process.\n",
      "\n",
      "2. **What could be improved?**\n",
      "   - The response is somewhat vague and lacks depth in explaining each component.\n",
      "   - It does not mention the iterative nature of AI development or the importance of validation and testing phases.\n",
      "   - Additionally, it might benefit from including real-world examples or specific tools and techniques used in each phase.\n",
      "\n",
      "3. **Suggestions for next time**\n",
      "   - Provide more detailed explanations for each component.\n",
      "   - Discuss the iterative process and how different stages may loop back to earlier steps based on feedback and performance metrics.\n",
      "   - Consider adding diagrams or flowcharts to visualize the AI development lifecycle.\n",
      "   - Include examples of tools and technologies used in data collection, preprocessing, feature extraction, model selection, training, evaluation, and deployment.\n",
      "   - Highlight the importance of ethical considerations and bias mitigation throughout the AI system's lifecycle.\n",
      "\n",
      "Improved Response: An AI system typically consists of several core components that work together to perform tasks, make decisions, and learn from data. These components can be broadly categorized into the following steps:\n",
      "\n",
      "1. **Data Collection:** This is the initial phase where raw data is gathered from various sources. Data can come from sensors, user inputs, external APIs, or pre-existing databases. The quality and quantity of data collected significantly impact the effectiveness of the AI system.\n",
      "\n",
      "2. **Data Preprocessing:** Raw data often needs to be cleaned and formatted before it can be used for analysis. This step involves handling missing values, removing outliers, normalizing data, and converting data types as needed.\n",
      "\n",
      "3. **Feature Extraction:** In this phase, relevant features are identified and extracted from the data to reduce dimensionality and improve model performance. Feature extraction techniques can include statistical analysis, dimensionality reduction methods like PCA (Principal Component Analysis), or domain-specific feature engineering.\n",
      "\n",
      "4. **Model Selection:** Choosing the right machine learning algorithm is crucial. Different models have their strengths and weaknesses depending on the type of data and the problem at hand. Common algorithms include decision trees, random forests, SVMs, neural networks, and deep learning architectures.\n",
      "\n",
      "5. **Training:** During the training phase, the selected model is fed with the processed data to learn patterns and relationships. This involves adjusting the model's parameters to minimize prediction errors.\n",
      "\n",
      "6. **Validation and Testing:** It's essential to evaluate the model's performance using separate datasets to ensure it generalizes well to unseen data. Techniques like cross-validation are commonly used to tune hyperparameters and prevent overfitting.\n",
      "\n",
      "7. **Deployment:** Once the model performs satisfactorily, it is deployed into a production environment where it can make real-time decisions or predictions. Continuous monitoring is necessary to maintain performance and handle any issues that arise.\n",
      "\n",
      "8. **Iteration and Improvement:** The AI development process is often iterative. Feedback from the deployed system can be used to refine the model, collect new data, and improve future iterations. Ethical considerations and bias mitigation should also be ongoing aspects of this cycle.\n",
      "\n",
      "For example, consider a recommendation system for an online shopping platform. Data is collected from user interactions, purchases, browsing history, and ratings. After preprocessing and feature extraction, a collaborative filtering or matrix factorization model might be selected and trained. Validation ensures that recommendations are personalized yet diverse. Post-deployment, user behavior is tracked to further refine recommendations and address any biases in the system.\n",
      "\n",
      "Tools and technologies such as TensorFlow, PyTorch, Scikit-learn, Apache Spark, and NoSQL databases play pivotal roles in implementing these steps efficiently. Visualizing the AI lifecycle through flowcharts can also aid in understanding the sequence and dependencies between these components.\n",
      "\n",
      "In summary, while the initial prompt provided a basic framework for understanding AI systems, expanding on each component with details, examples, and the iterative nature of development enhances comprehension and practical application of AI principles.\n"
     ]
    }
   ],
   "source": [
    "print(\"Test with Improvement:\")\n",
    "result = improved_reflective_agent(\n",
    "    \"What are the main components of an AI system?\"\n",
    ")\n",
    "print(\"\\nInitial Response:\", result[\"initial_response\"])\n",
    "print(\"\\nReflection:\", result[\"reflection\"])\n",
    "print(\"\\nImproved Response:\", result[\"improved_response\"])"
   ]
  },
  {
   "cell_type": "markdown",
   "metadata": {},
   "source": []
  }
 ],
 "metadata": {
  "kernelspec": {
   "display_name": "venv",
   "language": "python",
   "name": "python3"
  },
  "language_info": {
   "codemirror_mode": {
    "name": "ipython",
    "version": 3
   },
   "file_extension": ".py",
   "mimetype": "text/x-python",
   "name": "python",
   "nbconvert_exporter": "python",
   "pygments_lexer": "ipython3",
   "version": "3.10.12"
  }
 },
 "nbformat": 4,
 "nbformat_minor": 2
}
