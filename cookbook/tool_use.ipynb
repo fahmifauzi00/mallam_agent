{
 "cells": [
  {
   "cell_type": "markdown",
   "metadata": {},
   "source": [
    "# Tool Use"
   ]
  },
  {
   "cell_type": "markdown",
   "metadata": {},
   "source": [
    "## How to create and use simple tools with LLM"
   ]
  },
  {
   "cell_type": "markdown",
   "metadata": {},
   "source": [
    "### 1. Create a very simple tool"
   ]
  },
  {
   "cell_type": "code",
   "execution_count": 1,
   "metadata": {},
   "outputs": [],
   "source": [
    "# create a calculator tool that can add two numbers\n",
    "def add_numbers(x: int, y: int) -> int:\n",
    "    \"\"\"A simple tool that adds two numbers\"\"\"\n",
    "    return x + y\n",
    "\n",
    "# create a simple text tool\n",
    "def greet_user(name: str) -> str:\n",
    "    \"\"\"A simple tool that greets the user\"\"\"\n",
    "    return f\"Hello, {name}! Nice to meet you.\"\n",
    "\n",
    "# create a tool that works with lists\n",
    "def find_longest_word(word_list: list) -> str:\n",
    "    \"\"\"Find the longest word in a list of words\"\"\"\n",
    "    if not word_list:\n",
    "        return \"List is empty\"\n",
    "    return max(word_list, key=len)"
   ]
  },
  {
   "cell_type": "markdown",
   "metadata": {},
   "source": [
    "### 2. Describe our tools to LLM"
   ]
  },
  {
   "cell_type": "code",
   "execution_count": 2,
   "metadata": {},
   "outputs": [],
   "source": [
    "# This is how we tell the LLM what our tools can do\n",
    "TOOL_DESCRIPTIONS = [\n",
    "    {\n",
    "        \"type\": \"function\",\n",
    "        \"function\": {\n",
    "            \"name\": \"add_numbers\",\n",
    "            \"description\": \"Add two numbers together\",\n",
    "            \"parameters\": {\n",
    "                \"type\": \"object\",\n",
    "                \"properties\": {\n",
    "                    \"x\": {\n",
    "                        \"type\": \"integer\",\n",
    "                        \"description\": \"First number to add\"\n",
    "                    },\n",
    "                    \"y\": {\n",
    "                        \"type\": \"integer\",\n",
    "                        \"description\": \"Second number to add\"\n",
    "                    }\n",
    "                },\n",
    "                \"required\": [\"x\", \"y\"]\n",
    "            }\n",
    "        }\n",
    "    },\n",
    "    {\n",
    "        \"type\": \"function\",\n",
    "        \"function\": {\n",
    "            \"name\": \"greet_user\",\n",
    "            \"description\": \"Greet a user by name\",\n",
    "            \"parameters\": {\n",
    "                \"type\": \"object\",\n",
    "                \"properties\": {\n",
    "                    \"name\": {\n",
    "                        \"type\": \"string\",\n",
    "                        \"description\": \"Name of the user to greet\"\n",
    "                    }\n",
    "                },\n",
    "                \"required\": [\"name\"]\n",
    "            }\n",
    "        }\n",
    "    },\n",
    "    {\n",
    "        \"type\": \"function\",\n",
    "        \"function\": {\n",
    "            \"name\": \"find_longest_word\",\n",
    "            \"description\": \"Find the longest word in a list\",\n",
    "            \"parameters\": {\n",
    "                \"type\": \"object\",\n",
    "                \"properties\": {\n",
    "                    \"word_list\": {\n",
    "                        \"type\": \"array\",\n",
    "                        \"items\": {\"type\": \"string\"},\n",
    "                        \"description\": \"List of words to check\"\n",
    "                    }\n",
    "                },\n",
    "                \"required\": [\"word_list\"]\n",
    "            }\n",
    "        }\n",
    "    }\n",
    "]"
   ]
  },
  {
   "cell_type": "markdown",
   "metadata": {},
   "source": [
    "### 3. Tool Mapping\n",
    "Create a dictionary to map tool names to functions"
   ]
  },
  {
   "cell_type": "code",
   "execution_count": 3,
   "metadata": {},
   "outputs": [],
   "source": [
    "TOOL_MAP = {\n",
    "    \"add_numbers\": add_numbers,\n",
    "    \"greet_user\": greet_user,\n",
    "    \"find_longest_word\": find_longest_word\n",
    "}"
   ]
  },
  {
   "cell_type": "markdown",
   "metadata": {},
   "source": [
    "### 4. Let's setup the MaLLaM's client with OpenAI"
   ]
  },
  {
   "cell_type": "code",
   "execution_count": 4,
   "metadata": {},
   "outputs": [],
   "source": [
    "import os\n",
    "from openai import OpenAI\n",
    "import json\n",
    "\n",
    "mallam_api_key = os.getenv(\"MALLAM_API_KEY\")\n",
    "    \n",
    "# create MaLLaM client\n",
    "client = OpenAI(\n",
    "    base_url=\"https://api.mesolitica.com\",\n",
    "    api_key=mallam_api_key\n",
    ")"
   ]
  },
  {
   "cell_type": "code",
   "execution_count": 5,
   "metadata": {},
   "outputs": [
    {
     "name": "stdout",
     "output_type": "stream",
     "text": [
      "{'name': 'add_numbers', 'arguments': {'x': 5, 'y': 3}}\n"
     ]
    }
   ],
   "source": [
    "# create messages for the LLM\n",
    "messages = [\n",
    "    {\n",
    "        \"role\": \"system\",\n",
    "        \"content\": \"\"\"You are a helpful assistant that can use tools.\n",
    "        When a user asks something, use the appropriate tool to help them.\n",
    "        For math, use add_numbers.\n",
    "        For greetings, use greet_user.\n",
    "        For finding longest words, use find_longest_word.\"\"\"\n",
    "    },\n",
    "    {\n",
    "        \"role\": \"user\",\n",
    "        \"content\": \"Can you add 5 and 3 together?\"\n",
    "    }\n",
    "]\n",
    "    \n",
    "# ask LLM what to do\n",
    "response = client.chat.completions.create(\n",
    "    model=\"mallam-small\",    # MaLLaM's model\n",
    "    messages=messages,\n",
    "    tools=TOOL_DESCRIPTIONS,\n",
    "    tool_choice=\"auto\"\n",
    ")\n",
    "\n",
    "tool_call = json.loads(response.choices[0].message.content)\n",
    "print(tool_call)"
   ]
  },
  {
   "cell_type": "code",
   "execution_count": 6,
   "metadata": {},
   "outputs": [
    {
     "name": "stdout",
     "output_type": "stream",
     "text": [
      "8\n",
      "Tool used: ['add_numbers']\n"
     ]
    }
   ],
   "source": [
    "# if LLM wants to use tools\n",
    "tool_call = json.loads(response.choices[0].message.content)\n",
    "\n",
    "if tool_call:\n",
    "    # get tool names and arguments\n",
    "    tool_name = tool_call[\"name\"]\n",
    "    tool_args = tool_call[\"arguments\"]\n",
    "            \n",
    "    # use the tool\n",
    "    if tool_name in TOOL_MAP:\n",
    "        tool_result = TOOL_MAP[tool_name](**tool_args)\n",
    "                \n",
    "        # add tool results to conversation\n",
    "        messages.append({\n",
    "            \"role\": \"assistant\",\n",
    "            \"content\": f\"I used {tool_name} and got result: {str(tool_result)}\"\n",
    "        })\n",
    "     \n",
    "# get final response from LLM\n",
    "final_response = client.chat.completions.create(\n",
    "    model=\"mallam-small\",\n",
    "    messages=messages\n",
    ")\n",
    "\n",
    "tool_used = [tool_call[\"name\"]] if tool_call else []\n",
    "\n",
    "print(final_response.choices[0].message.content)\n",
    "print(\"Tool used:\", tool_used)"
   ]
  },
  {
   "cell_type": "markdown",
   "metadata": {},
   "source": [
    "#### Now let's test the other functions"
   ]
  },
  {
   "cell_type": "code",
   "execution_count": 7,
   "metadata": {},
   "outputs": [
    {
     "name": "stdout",
     "output_type": "stream",
     "text": [
      "{'name': 'greet_user', 'arguments': {'name': 'Adham'}}\n"
     ]
    }
   ],
   "source": [
    "# greet_user test\n",
    "messages = [\n",
    "    {\n",
    "        \"role\": \"system\",\n",
    "        \"content\": \"\"\"You are a helpful assistant that can use tools.\n",
    "        When a user asks something, use the appropriate tool to help them.\n",
    "        For math, use add_numbers.\n",
    "        For greetings, use greet_user.\n",
    "        For finding longest words, use find_longest_word.\"\"\"\n",
    "    },\n",
    "    {\n",
    "        \"role\": \"user\",\n",
    "        \"content\": \"Please greet Adham. Just show your greetings for the final output.\"\n",
    "    }\n",
    "]\n",
    "    \n",
    "response = client.chat.completions.create(\n",
    "    model=\"mallam-small\",\n",
    "    messages=messages,\n",
    "    tools=TOOL_DESCRIPTIONS,\n",
    "    tool_choice=\"auto\"\n",
    ")\n",
    "\n",
    "tool_call = json.loads(response.choices[0].message.content)\n",
    "print(tool_call)"
   ]
  },
  {
   "cell_type": "code",
   "execution_count": 9,
   "metadata": {},
   "outputs": [
    {
     "name": "stdout",
     "output_type": "stream",
     "text": [
      "I used greet_user and got result: Hello, Adham! Nice to meet you.\n",
      "Tool used: ['greet_user']\n"
     ]
    }
   ],
   "source": [
    "tool_call = json.loads(response.choices[0].message.content)\n",
    "\n",
    "if tool_call:\n",
    "    tool_name = tool_call[\"name\"]\n",
    "    tool_args = tool_call[\"arguments\"]\n",
    "            \n",
    "    if tool_name in TOOL_MAP:\n",
    "        tool_result = TOOL_MAP[tool_name](**tool_args)\n",
    "        messages.append({\n",
    "            \"role\": \"assistant\",\n",
    "            \"content\": f\"I used {tool_name} and got result: {str(tool_result)}\"\n",
    "        })\n",
    "     \n",
    "final_response = client.chat.completions.create(\n",
    "    model=\"mallam-small\",\n",
    "    messages=messages\n",
    ")\n",
    "\n",
    "tool_used = [tool_call[\"name\"]] if tool_call else []\n",
    "\n",
    "print(final_response.choices[0].message.content)\n",
    "print(\"Tool used:\", tool_used)"
   ]
  },
  {
   "cell_type": "code",
   "execution_count": 13,
   "metadata": {},
   "outputs": [
    {
     "name": "stdout",
     "output_type": "stream",
     "text": [
      "{'name': 'find_longest_word', 'arguments': {'word_list': ['ayam', 'ikan', 'daging']}}\n"
     ]
    }
   ],
   "source": [
    "# find_longest_word test\n",
    "messages = [\n",
    "    {\n",
    "        \"role\": \"system\",\n",
    "        \"content\": \"\"\"You are a helpful assistant that can use tools.\n",
    "        When a user asks something, use the appropriate tool to help them.\n",
    "        For math, use add_numbers.\n",
    "        For greetings, use greet_user.\n",
    "        For finding longest words, use find_longest_word.\"\"\"\n",
    "    },\n",
    "    {\n",
    "        \"role\": \"user\",\n",
    "        \"content\": \"What's the longest word among: ayam, ikan, daging?\"\n",
    "    }\n",
    "]\n",
    "    \n",
    "response = client.chat.completions.create(\n",
    "    model=\"mallam-small\",\n",
    "    messages=messages,\n",
    "    tools=TOOL_DESCRIPTIONS,\n",
    "    tool_choice=\"auto\"\n",
    ")\n",
    "\n",
    "tool_call = json.loads(response.choices[0].message.content)\n",
    "print(tool_call)"
   ]
  },
  {
   "cell_type": "code",
   "execution_count": 14,
   "metadata": {},
   "outputs": [
    {
     "name": "stdout",
     "output_type": "stream",
     "text": [
      "I used find_longest_word and got the longest word as 'daging'.\n",
      "Tool used: ['find_longest_word']\n"
     ]
    }
   ],
   "source": [
    "tool_call = json.loads(response.choices[0].message.content)\n",
    "\n",
    "if tool_call:\n",
    "    tool_name = tool_call[\"name\"]\n",
    "    tool_args = tool_call[\"arguments\"]\n",
    "            \n",
    "    if tool_name in TOOL_MAP:\n",
    "        tool_result = TOOL_MAP[tool_name](**tool_args)\n",
    "        messages.append({\n",
    "            \"role\": \"assistant\",\n",
    "            \"content\": f\"I used {tool_name} and got result: {str(tool_result)}\"\n",
    "        })\n",
    "     \n",
    "final_response = client.chat.completions.create(\n",
    "    model=\"mallam-small\",\n",
    "    messages=messages\n",
    ")\n",
    "\n",
    "tool_used = [tool_call[\"name\"]] if tool_call else []\n",
    "\n",
    "print(final_response.choices[0].message.content)\n",
    "print(\"Tool used:\", tool_used)"
   ]
  },
  {
   "cell_type": "markdown",
   "metadata": {},
   "source": [
    "## Let's a build a Simple Customer Support Agent with LLM\n",
    "This example shows how to use LLM with basic tools for customer support"
   ]
  },
  {
   "cell_type": "code",
   "execution_count": 15,
   "metadata": {},
   "outputs": [],
   "source": [
    "# import required libraries\n",
    "from openai import OpenAI\n",
    "import os\n",
    "import json\n",
    "from datetime import datetime"
   ]
  },
  {
   "cell_type": "markdown",
   "metadata": {},
   "source": [
    "### 1. First, let's create a simple customer database using Python dictionary\n",
    "This is like a very simple database table"
   ]
  },
  {
   "cell_type": "code",
   "execution_count": 16,
   "metadata": {},
   "outputs": [],
   "source": [
    "CUSTOMER_DATABASE = {\n",
    "    \"cust101\": {\n",
    "        \"name\": \"Muhammad Ali\",\n",
    "        \"email\": \"muhdali@example.com\",\n",
    "        \"plan\": \"premium\"\n",
    "    },\n",
    "    \"cust102\": {\n",
    "        \"name\": \"Ain Fieqah\",\n",
    "        \"email\": \"ainfieqah@example.com\",\n",
    "        \"plan\": \"basic\"\n",
    "    }\n",
    "}"
   ]
  },
  {
   "cell_type": "markdown",
   "metadata": {},
   "source": [
    "### 2. Create a simple knowledge base using a dictionary"
   ]
  },
  {
   "cell_type": "code",
   "execution_count": 17,
   "metadata": {},
   "outputs": [],
   "source": [
    "KNOWLEDGE_BASE = {\n",
    "    \"login\": {\n",
    "        \"title\": \"Login Help\",\n",
    "        \"content\": \"\"\"\n",
    "        Common login solutions:\n",
    "        1. Check your caps lock\n",
    "        2. Clear browser cache\n",
    "        3. Try password reset\n",
    "        \"\"\"\n",
    "    },\n",
    "    \"billing\": {\n",
    "        \"title\": \"Billing information\",\n",
    "        \"content\": \"\"\"\n",
    "        Billing information:\n",
    "        - Billing cycle: Monthly\n",
    "        - Payment methods: Credit card, Online banking, Direct Transfer\n",
    "        \"\"\"\n",
    "    }\n",
    "}"
   ]
  },
  {
   "cell_type": "markdown",
   "metadata": {},
   "source": [
    "### 3. Now let's define our tools"
   ]
  },
  {
   "cell_type": "code",
   "execution_count": 18,
   "metadata": {},
   "outputs": [],
   "source": [
    "# get customer info\n",
    "def get_customer_info(customer_id):\n",
    "    \"\"\"Get customer information from our database\"\"\"\n",
    "    # check if customer exists in our database first\n",
    "    if customer_id in CUSTOMER_DATABASE:\n",
    "        return CUSTOMER_DATABASE[customer_id]\n",
    "    else:\n",
    "        return {\"error\": \"Customer not found\"}\n",
    "    \n",
    "def search_knowledge_base(query):\n",
    "    \"\"\"Search our knowledge base for helpful articles\"\"\"\n",
    "    # simple search - just checks if keywords are in the article\n",
    "    results = []\n",
    "    \n",
    "    # convert search query to lowercase for better matching\n",
    "    query = query.lower()\n",
    "    \n",
    "    # check each article in our knowledge base\n",
    "    for topic, article in KNOWLEDGE_BASE.items():\n",
    "        if topic in query or query in article[\"content\"].lower():\n",
    "            results.append(article)\n",
    "            \n",
    "    return results\n",
    "\n",
    "\n",
    "def send_email(to_email, subject, message):\n",
    "    \"\"\"Simulate sending an email\"\"\"\n",
    "    # in a real application, this would connect to email services\n",
    "    # but for now, we'll just return what would be sent\n",
    "    return {\n",
    "        \"sent\": True,\n",
    "        \"to\": to_email,\n",
    "        \"subject\": subject,\n",
    "        \"message\": message,\n",
    "        \"time\": datetime.now().isoformat()\n",
    "    }"
   ]
  },
  {
   "cell_type": "markdown",
   "metadata": {},
   "source": [
    "### 4. Describe the tools to the LLM"
   ]
  },
  {
   "cell_type": "code",
   "execution_count": 19,
   "metadata": {},
   "outputs": [],
   "source": [
    "TOOL_DESCRIPTIONS = [\n",
    "    {\n",
    "        \"type\": \"function\",\n",
    "        \"function\": {\n",
    "            \"name\": \"get_customer_info\",\n",
    "            \"description\": \"Get information about a customer\",\n",
    "            \"parameters\": {\n",
    "                \"type\": \"object\",\n",
    "                \"properties\": {\n",
    "                    \"customer_id\": {\n",
    "                        \"type\": \"string\",\n",
    "                        \"description\": \"The customer's ID (e.g., cust101)\"\n",
    "                    }\n",
    "                },\n",
    "                \"required\": [\"customer_id\"]\n",
    "            }\n",
    "        }\n",
    "    },\n",
    "    {\n",
    "        \"type\": \"function\",\n",
    "        \"function\": {\n",
    "            \"name\": \"search_knowledge_base\",\n",
    "            \"description\": \"Search help articles for customer issues\",\n",
    "            \"parameters\": {\n",
    "                \"type\": \"object\",\n",
    "                \"properties\": {\n",
    "                    \"query\": {\n",
    "                        \"type\": \"string\",\n",
    "                        \"description\": \"What to search for\"\n",
    "                    }\n",
    "                },\n",
    "                \"required\": [\"query\"]\n",
    "            }\n",
    "        }\n",
    "    },\n",
    "    {\n",
    "        \"type\": \"function\",\n",
    "        \"function\": {\n",
    "            \"name\": \"send_email\",\n",
    "            \"description\": \"Send an email to a customer\",\n",
    "            \"parameters\": {\n",
    "                \"type\": \"object\",\n",
    "                \"properties\": {\n",
    "                    \"to_email\": {\n",
    "                        \"type\": \"string\",\n",
    "                        \"description\": \"Customer's email address\"\n",
    "                    },\n",
    "                    \"subject\": {\n",
    "                        \"type\": \"string\",\n",
    "                        \"description\": \"Email subject\"\n",
    "                    },\n",
    "                    \"message\": {\n",
    "                        \"type\": \"string\",\n",
    "                        \"description\": \"Email content\"\n",
    "                    }\n",
    "                },\n",
    "                \"required\": [\"to_email\", \"subject\", \"message\"]\n",
    "            }\n",
    "        }\n",
    "    }\n",
    "]"
   ]
  },
  {
   "cell_type": "code",
   "execution_count": 20,
   "metadata": {},
   "outputs": [],
   "source": [
    "TOOL_MAP = {\n",
    "    \"get_customer_info\": get_customer_info,\n",
    "    \"search_knowledge_base\": search_knowledge_base,\n",
    "    \"send_email\": send_email\n",
    "}"
   ]
  },
  {
   "cell_type": "markdown",
   "metadata": {},
   "source": [
    "### 5. Now let's create the main function to handle customer support requests"
   ]
  },
  {
   "cell_type": "code",
   "execution_count": 21,
   "metadata": {},
   "outputs": [],
   "source": [
    "def handle_customer_request(customer_id, customer_message):\n",
    "    \"\"\"Handle a customer support request using LLM and tools\"\"\"\n",
    "    \n",
    "    # initialize MaLLaM OpenAI client\n",
    "    mallam_api_key = os.getenv(\"MALLAM_API_KEY\")\n",
    "    \n",
    "    client = OpenAI(\n",
    "        base_url=\"https://api.mesolitica.com\",\n",
    "        api_key=mallam_api_key\n",
    "    )\n",
    "    \n",
    "    # create initial message for the LLM\n",
    "    messages = [\n",
    "        {\n",
    "            \"role\": \"system\",\n",
    "            \"content\": \"\"\"You are a helpful customer support agent.\n",
    "            First get the customer's information, then help solve their problem\n",
    "            using the knowledge base. Be polite and professional.\n",
    "            When using multiple tools, return them as a JSON array like this:\n",
    "            [\n",
    "                {\"name\": \"tool1\", \"arguments\": {...}},\n",
    "                {\"name\": \"tool2\", \"arguments\": {...}}\n",
    "            ]\"\"\"\n",
    "        },\n",
    "        {\n",
    "            \"role\": \"user\",\n",
    "            \"content\": f\"Customer {customer_id} says: {customer_message}\"\n",
    "        }\n",
    "    ]\n",
    "    \n",
    "    # ask LLM what to do\n",
    "    response = client.chat.completions.create(\n",
    "        model=\"mallam-small\",\n",
    "        messages=messages,\n",
    "        tools=TOOL_DESCRIPTIONS,\n",
    "        tool_choice=\"auto\"\n",
    "    )\n",
    "    \n",
    "    # parse the response - to handle both single tool call and array of tool calls\n",
    "    content = response.choices[0].message.content\n",
    "    tool_calls = json.loads(content)\n",
    "    # if it's a single tool call (not in array), convert to array\n",
    "    if isinstance(tool_calls, dict):\n",
    "        tool_calls = [tool_calls]\n",
    "            \n",
    "    tools_used = []\n",
    "    #execute each tool call\n",
    "    for tool_call in tool_calls:\n",
    "        tool_name = tool_call[\"name\"]\n",
    "        tool_args = tool_call[\"arguments\"]\n",
    "        tools_used.append(tool_name)\n",
    "                \n",
    "        if tool_name in TOOL_MAP:\n",
    "            tool_result = TOOL_MAP[tool_name](**tool_args)\n",
    "            messages.append({\n",
    "                \"role\": \"tool\",\n",
    "                \"name\": tool_name,\n",
    "                \"content\": f\"I used {tool_name} and got result: {str(tool_result)}\"\n",
    "            })\n",
    "        \n",
    "    final_response = client.chat.completions.create(\n",
    "        model=\"mallam-small\",\n",
    "        messages=messages\n",
    "    )\n",
    "\n",
    "    return {\n",
    "        \"response\": final_response.choices[0].message.content,\n",
    "        \"tools_used\": tools_used\n",
    "    }"
   ]
  },
  {
   "cell_type": "markdown",
   "metadata": {},
   "source": [
    "### 6. Now let's test it"
   ]
  },
  {
   "cell_type": "code",
   "execution_count": 23,
   "metadata": {},
   "outputs": [
    {
     "name": "stdout",
     "output_type": "stream",
     "text": [
      "\n",
      "Test Case 1: Login Issue\n",
      "Response: Hello, Muhammad Ali! I'm here to assist you with logging into your account. It sounds like you're having trouble accessing it right now. Can you tell me what the issue is? Are you getting any error messages when you try to log in?\n",
      "Tools used: ['get_customer_info']\n"
     ]
    }
   ],
   "source": [
    "# test 1: Login issue\n",
    "print(\"\\nTest Case 1: Login Issue\")\n",
    "result = handle_customer_request(\n",
    "    customer_id=\"cust101\",\n",
    "    customer_message=\"I can't log into my account. Please help!\"\n",
    ")\n",
    "print(\"Response:\", result[\"response\"])\n",
    "print(\"Tools used:\", result[\"tools_used\"])"
   ]
  },
  {
   "cell_type": "code",
   "execution_count": 25,
   "metadata": {},
   "outputs": [
    {
     "name": "stdout",
     "output_type": "stream",
     "text": [
      "\n",
      "Test Case 2: Billing Question\n",
      "Response: Hello Ain Fieqah, your current email address on record is ainfieqah@example.com. You can update it by clicking here [update_email_link]. Additionally, you're on the basic plan with a monthly billing cycle. For more details on billing, feel free to refer to our knowledge base article [billing_information_link].\n",
      "Tools used: ['get_customer_info', 'search_knowledge_base']\n"
     ]
    }
   ],
   "source": [
    "# test 2: Billing question\n",
    "print(\"\\nTest Case 2: Billing Question\")\n",
    "result = handle_customer_request(\n",
    "    customer_id=\"cust102\",\n",
    "    customer_message=\"I need to know my billing cycle and want to update my email address\"\n",
    ")\n",
    "print(\"Response:\", result[\"response\"])\n",
    "print(\"Tools used:\", result[\"tools_used\"])"
   ]
  }
 ],
 "metadata": {
  "kernelspec": {
   "display_name": "Python 3 (ipykernel)",
   "language": "python",
   "name": "python3"
  },
  "language_info": {
   "codemirror_mode": {
    "name": "ipython",
    "version": 3
   },
   "file_extension": ".py",
   "mimetype": "text/x-python",
   "name": "python",
   "nbconvert_exporter": "python",
   "pygments_lexer": "ipython3",
   "version": "3.10.12"
  }
 },
 "nbformat": 4,
 "nbformat_minor": 4
}
